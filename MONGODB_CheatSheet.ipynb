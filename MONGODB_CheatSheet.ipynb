{
  "nbformat": 4,
  "nbformat_minor": 0,
  "metadata": {
    "colab": {
      "name": "MONGODB CheatSheet.ipynb",
      "provenance": [],
      "collapsed_sections": [],
      "authorship_tag": "ABX9TyNTIoVa+JU0IMl06hzreHDE",
      "include_colab_link": true
    },
    "kernelspec": {
      "name": "python3",
      "display_name": "Python 3"
    },
    "language_info": {
      "name": "python"
    }
  },
  "cells": [
    {
      "cell_type": "markdown",
      "metadata": {
        "id": "view-in-github",
        "colab_type": "text"
      },
      "source": [
        "<a href=\"https://colab.research.google.com/github/ashkanmulla/ashkancoding/blob/main/MONGODB_CheatSheet.ipynb\" target=\"_parent\"><img src=\"https://colab.research.google.com/assets/colab-badge.svg\" alt=\"Open In Colab\"/></a>"
      ]
    },
    {
      "cell_type": "markdown",
      "metadata": {
        "id": "rqH8xcpssm-I"
      },
      "source": [
        "### **#MongoDb commands i will ever need (MongoDb Cheatsheet)**\n"
      ]
    },
    {
      "cell_type": "markdown",
      "metadata": {
        "id": "idvz_TtLsrug"
      },
      "source": [
        "### **#Database Commands**"
      ]
    },
    {
      "cell_type": "markdown",
      "metadata": {
        "id": "PZgHKH4Ft07Z"
      },
      "source": [
        "### View all databases"
      ]
    },
    {
      "cell_type": "code",
      "metadata": {
        "id": "fLLu8k9hs-vI"
      },
      "source": [
        "show dbs"
      ],
      "execution_count": null,
      "outputs": []
    },
    {
      "cell_type": "markdown",
      "metadata": {
        "id": "rW8nFY8LtSqx"
      },
      "source": [
        "### Create a new or switch databases"
      ]
    },
    {
      "cell_type": "code",
      "metadata": {
        "id": "VBH3UW9JtF-I"
      },
      "source": [
        "use dbName"
      ],
      "execution_count": null,
      "outputs": []
    },
    {
      "cell_type": "markdown",
      "metadata": {
        "id": "TUbqi7u-t874"
      },
      "source": [
        "### View current Database"
      ]
    },
    {
      "cell_type": "code",
      "metadata": {
        "id": "oUBeuEDbt_RX"
      },
      "source": [
        "db"
      ],
      "execution_count": null,
      "outputs": []
    },
    {
      "cell_type": "markdown",
      "metadata": {
        "id": "Ycch-ULquA5A"
      },
      "source": [
        "### Delete Database"
      ]
    },
    {
      "cell_type": "code",
      "metadata": {
        "id": "Oiwp5hT_uFFH"
      },
      "source": [
        "db.dropDatabase()"
      ],
      "execution_count": null,
      "outputs": []
    },
    {
      "cell_type": "markdown",
      "metadata": {
        "id": "eV2tgBAuuHhv"
      },
      "source": [
        "### **2. Collection Commands**"
      ]
    },
    {
      "cell_type": "markdown",
      "metadata": {
        "id": "ytoXjYdpuSwA"
      },
      "source": [
        "### Show Collections"
      ]
    },
    {
      "cell_type": "code",
      "metadata": {
        "id": "IWlu9QEbuVRX"
      },
      "source": [
        "show collections"
      ],
      "execution_count": null,
      "outputs": []
    },
    {
      "cell_type": "markdown",
      "metadata": {
        "id": "HnfLex-duXJQ"
      },
      "source": [
        "### Create a collection named 'comments'"
      ]
    },
    {
      "cell_type": "code",
      "metadata": {
        "id": "HpdzgV7xuawQ"
      },
      "source": [
        "db.createCollection('comments')"
      ],
      "execution_count": null,
      "outputs": []
    },
    {
      "cell_type": "markdown",
      "metadata": {
        "id": "LFiRhPJqucuB"
      },
      "source": [
        "### Drop a collection named 'comments'"
      ]
    },
    {
      "cell_type": "code",
      "metadata": {
        "id": "kdJmiuelugXw"
      },
      "source": [
        "db.comments.drop()"
      ],
      "execution_count": null,
      "outputs": []
    },
    {
      "cell_type": "markdown",
      "metadata": {
        "id": "XwbPKFVZ0jnb"
      },
      "source": [
        "### **3. Row(Document) Commands**"
      ]
    },
    {
      "cell_type": "markdown",
      "metadata": {
        "id": "agYEavNM0lkR"
      },
      "source": [
        "### Show all Rows in a Collection "
      ]
    },
    {
      "cell_type": "code",
      "metadata": {
        "id": "egsk1S3q0n2P"
      },
      "source": [
        "db.comments.find()"
      ],
      "execution_count": null,
      "outputs": []
    },
    {
      "cell_type": "markdown",
      "metadata": {
        "id": "Hy7lg1Hr0sqy"
      },
      "source": [
        "### Show all Rows in a Collection (Prettified)"
      ]
    },
    {
      "cell_type": "code",
      "metadata": {
        "id": "J0mmk8gW0uhb"
      },
      "source": [
        "db.comments.find().pretty()"
      ],
      "execution_count": null,
      "outputs": []
    },
    {
      "cell_type": "markdown",
      "metadata": {
        "id": "c550KzT30voa"
      },
      "source": [
        "### Find the first row matching the object"
      ]
    },
    {
      "cell_type": "code",
      "metadata": {
        "id": "B1pUdwmd0xJq"
      },
      "source": [
        "db.comments.findOne({name: 'Harry'})"
      ],
      "execution_count": null,
      "outputs": []
    },
    {
      "cell_type": "markdown",
      "metadata": {
        "id": "n8fl0IEu0yYC"
      },
      "source": [
        "### Insert One Row"
      ]
    },
    {
      "cell_type": "code",
      "metadata": {
        "id": "-uoNZNw303_T"
      },
      "source": [
        "db.comments.insert({\n",
        "    'name': 'Harry',\n",
        "    'lang': 'JavaScript',\n",
        "    'member_since': 5\n",
        " })"
      ],
      "execution_count": null,
      "outputs": []
    },
    {
      "cell_type": "markdown",
      "metadata": {
        "id": "Yd_JljAM04tC"
      },
      "source": [
        "### nsert many Rows"
      ]
    },
    {
      "cell_type": "code",
      "metadata": {
        "id": "VmxHyfT507Uz"
      },
      "source": [
        "db.comments.insertMany([{\n",
        "    'name': 'Harry',\n",
        "    'lang': 'JavaScript',\n",
        "    'member_since': 5\n",
        "    }, \n",
        "    {'name': 'Rohan',\n",
        "    'lang': 'Python',\n",
        "    'member_since': 3\n",
        "    },\n",
        "    {'name': 'Lovish',\n",
        "    'lang': 'Java',\n",
        "    'member_since': 4\n",
        "}])"
      ],
      "execution_count": null,
      "outputs": []
    },
    {
      "cell_type": "markdown",
      "metadata": {
        "id": "mt3gEJvh09aC"
      },
      "source": [
        "### Search in a MongoDb Database"
      ]
    },
    {
      "cell_type": "markdown",
      "metadata": {
        "id": "2bUbtuer1Avq"
      },
      "source": [
        "db.comments.find({lang:'Python'})"
      ]
    },
    {
      "cell_type": "markdown",
      "metadata": {
        "id": "PnXIO-ZY1Bfq"
      },
      "source": [
        "### Limit the number of rows in output"
      ]
    },
    {
      "cell_type": "code",
      "metadata": {
        "id": "kJ9AzwNe1Ena"
      },
      "source": [
        "db.comments.find().limit(2)"
      ],
      "execution_count": null,
      "outputs": []
    },
    {
      "cell_type": "markdown",
      "metadata": {
        "id": "oAtaAEgR1FMb"
      },
      "source": [
        "### Count the number of rows in the output"
      ]
    },
    {
      "cell_type": "code",
      "metadata": {
        "id": "cxUsUaR71GxL"
      },
      "source": [
        "db.comments.find().count()"
      ],
      "execution_count": null,
      "outputs": []
    },
    {
      "cell_type": "markdown",
      "metadata": {
        "id": "Cy0s5jpr1IGS"
      },
      "source": [
        "### Update a row"
      ]
    },
    {
      "cell_type": "code",
      "metadata": {
        "id": "9CMSetZn1MWL"
      },
      "source": [
        "db.comments.update({name: 'Shubham'},\n",
        "{'name': 'Harry',\n",
        "    'lang': 'JavaScript',\n",
        "    'member_since': 51\n",
        "}, {upsert: true})"
      ],
      "execution_count": null,
      "outputs": []
    },
    {
      "cell_type": "markdown",
      "metadata": {
        "id": "e--Ye2Gc1PC6"
      },
      "source": [
        "### Mongodb Increment Operator"
      ]
    },
    {
      "cell_type": "code",
      "metadata": {
        "id": "R1J9yUTI1SGa"
      },
      "source": [
        "db.comments.update({name: 'Rohan'},\n",
        "{$inc:{\n",
        "    member_since: 2\n",
        "}})"
      ],
      "execution_count": null,
      "outputs": []
    },
    {
      "cell_type": "markdown",
      "metadata": {
        "id": "fil9DgXF1S47"
      },
      "source": [
        "### Mongodb Rename Operator"
      ]
    },
    {
      "cell_type": "code",
      "metadata": {
        "id": "dUc_wTPS1Udi"
      },
      "source": [
        "db.comments.update({name: 'Rohan'},\n",
        "{$rename:{\n",
        "    member_since: 'member'\n",
        "}})"
      ],
      "execution_count": null,
      "outputs": []
    },
    {
      "cell_type": "markdown",
      "metadata": {
        "id": "k6Dt_y741W7y"
      },
      "source": [
        "### Delete Row "
      ]
    },
    {
      "cell_type": "code",
      "metadata": {
        "id": "7bhhgX_W1aYb"
      },
      "source": [
        "db.comments.remove({name: 'Harry'})"
      ],
      "execution_count": null,
      "outputs": []
    },
    {
      "cell_type": "markdown",
      "metadata": {
        "id": "sRWIrLf61cCq"
      },
      "source": [
        "### Less than/Greater than/ Less than or Eq/Greater than or Eq"
      ]
    },
    {
      "cell_type": "code",
      "metadata": {
        "id": "B6qRxha61eAz"
      },
      "source": [
        "db.comments.find({member_since: {$lt: 90}})"
      ],
      "execution_count": null,
      "outputs": []
    },
    {
      "cell_type": "code",
      "metadata": {
        "id": "t9jKYJNg1e0a"
      },
      "source": [
        "db.comments.find({member_since: {$lte: 90}})"
      ],
      "execution_count": null,
      "outputs": []
    },
    {
      "cell_type": "code",
      "metadata": {
        "id": "_B_5YaY61gUr"
      },
      "source": [
        "db.comments.find({member_since: {$lte: 90}})\n",
        "db.comments.find({member_since: {$gt: 90}})"
      ],
      "execution_count": null,
      "outputs": []
    },
    {
      "cell_type": "code",
      "metadata": {
        "id": "s-Gbznzd1hZD"
      },
      "source": [
        "db.comments.find({member_since: {$gte: 90}})"
      ],
      "execution_count": null,
      "outputs": []
    }
  ]
}